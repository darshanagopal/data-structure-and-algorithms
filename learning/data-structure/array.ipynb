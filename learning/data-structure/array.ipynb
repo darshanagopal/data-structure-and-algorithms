{
 "cells": [
  {
   "cell_type": "code",
   "execution_count": 27,
   "metadata": {},
   "outputs": [
    {
     "name": "stdout",
     "output_type": "stream",
     "text": [
      "[2, 4, 1, 8, 5, -1, -1, -1, -1, -1, -1, -1, -1, -1, -1, -1]\n",
      "[2, 4, 10, 1, 8, 5, -1, -1, -1, -1, -1, -1, -1, -1, -1, -1, -1]\n"
     ]
    }
   ],
   "source": [
    "# python Program to Insert an element\n",
    "# at a specific position in an Array\n",
    "\n",
    "def insert_inbetween(arr, x, pos):\n",
    "    print(arr)\n",
    "    length = len(arr)\n",
    "    arr.insert(pos, x)\n",
    "    print(arr)\n",
    "    return arr\n",
    "    \n",
    "if __name__=='__main__':\n",
    "    \n",
    "    arr = [2, 4, 1, 8, 5, -1, -1, -1, -1, -1, -1, -1, -1, -1, -1, -1]\n",
    "    x = 10\n",
    "    pos = 2\n",
    "    \n",
    "    insert_inbetween(arr, x, pos)"
   ]
  },
  {
   "cell_type": "code",
   "execution_count": null,
   "metadata": {},
   "outputs": [],
   "source": []
  }
 ],
 "metadata": {
  "kernelspec": {
   "display_name": "Python 3",
   "language": "python",
   "name": "python3"
  },
  "language_info": {
   "codemirror_mode": {
    "name": "ipython",
    "version": 3
   },
   "file_extension": ".py",
   "mimetype": "text/x-python",
   "name": "python",
   "nbconvert_exporter": "python",
   "pygments_lexer": "ipython3",
   "version": "3.9.6"
  }
 },
 "nbformat": 4,
 "nbformat_minor": 2
}
