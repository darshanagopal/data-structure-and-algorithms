{
 "cells": [
  {
   "cell_type": "code",
   "execution_count": 27,
   "metadata": {},
   "outputs": [
    {
     "name": "stdout",
     "output_type": "stream",
     "text": [
      "[2, 4, 1, 8, 5, -1, -1, -1, -1, -1, -1, -1, -1, -1, -1, -1]\n",
      "[2, 4, 10, 1, 8, 5, -1, -1, -1, -1, -1, -1, -1, -1, -1, -1, -1]\n"
     ]
    }
   ],
   "source": [
    "# python Program to Insert an element\n",
    "# at a specific position in an Array\n",
    "\n",
    "def insert_inbetween(arr, x, pos):\n",
    "    length = len(arr)\n",
    "    arr.insert(pos, x)\n",
    "    return arr\n",
    "    \n",
    "if __name__=='__main__':\n",
    "    \n",
    "    arr = [2, 4, 1, 8, 5, -1, -1, -1, -1, -1, -1, -1, -1, -1, -1, -1]\n",
    "    x = 10\n",
    "    pos = 2\n",
    "    \n",
    "    insert_inbetween(arr, x, pos)"
   ]
  },
  {
   "cell_type": "code",
   "execution_count": 85,
   "metadata": {},
   "outputs": [
    {
     "name": "stdout",
     "output_type": "stream",
     "text": [
      "Insertion position: 3\n"
     ]
    }
   ],
   "source": [
    "# Python3 program to implement insert\n",
    "# operation in an sorted array.\n",
    "\n",
    "# Inserts a key in arr[] of given capacity.\n",
    "# n is current size of arr[]. This function\n",
    "# returns Insertion position\n",
    "\n",
    "def binary_search(arr, key, low, high):\n",
    "    \n",
    "    while low <= high:\n",
    "        mid = low + (high - low) // 2\n",
    "        \n",
    "        if arr[mid] < key:\n",
    "            low = mid + 1\n",
    "        else:\n",
    "            high = mid - 1\n",
    "    \n",
    "    return low  # The insertion point\n",
    "\n",
    "# Example usage\n",
    "arr = [1, 3, 4, 10, 15]\n",
    "key = 5\n",
    "low = 0\n",
    "high = len(arr)\n",
    "insert_position = binary_search(arr, key, low, high)\n",
    "print(\"Insertion position:\", insert_position)  # Output: Insertion position: 3\n"
   ]
  }
 ],
 "metadata": {
  "kernelspec": {
   "display_name": "Python 3",
   "language": "python",
   "name": "python3"
  },
  "language_info": {
   "codemirror_mode": {
    "name": "ipython",
    "version": 3
   },
   "file_extension": ".py",
   "mimetype": "text/x-python",
   "name": "python",
   "nbconvert_exporter": "python",
   "pygments_lexer": "ipython3",
   "version": "3.9.6"
  }
 },
 "nbformat": 4,
 "nbformat_minor": 2
}
