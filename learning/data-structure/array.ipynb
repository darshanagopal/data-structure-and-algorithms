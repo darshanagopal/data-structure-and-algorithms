{
 "cells": [
  {
   "cell_type": "code",
   "execution_count": 88,
   "metadata": {},
   "outputs": [
    {
     "name": "stdout",
     "output_type": "stream",
     "text": [
      "Output: [2, 4, 10, 1, 8, 5, -1, -1, -1, -1, -1, -1, -1, -1, -1, -1, -1]\n"
     ]
    }
   ],
   "source": [
    "# python Program to Insert an element\n",
    "# at a specific position in an Array\n",
    "\n",
    "def insert_inbetween(arr, x, pos):\n",
    "    length = len(arr)\n",
    "    arr.insert(pos, x)\n",
    "    return arr\n",
    "    \n",
    "if __name__=='__main__':\n",
    "    \n",
    "    arr = [2, 4, 1, 8, 5, -1, -1, -1, -1, -1, -1, -1, -1, -1, -1, -1]\n",
    "    x = 10\n",
    "    pos = 2\n",
    "    \n",
    "    output = insert_inbetween(arr, x, pos)\n",
    "    print('Output:', output)"
   ]
  },
  {
   "cell_type": "code",
   "execution_count": 89,
   "metadata": {},
   "outputs": [
    {
     "name": "stdout",
     "output_type": "stream",
     "text": [
      "Insertion position: 3\n"
     ]
    }
   ],
   "source": [
    "# Python3 program to implement insert\n",
    "# operation in an sorted array.\n",
    "\n",
    "# Inserts a key in arr[] of given capacity.\n",
    "# n is current size of arr[]. This function\n",
    "# returns Insertion position\n",
    "\n",
    "def binary_search(arr, key, low, high):\n",
    "    \n",
    "    while low <= high:\n",
    "        mid = low + (high - low) // 2\n",
    "        \n",
    "        if arr[mid] < key:\n",
    "            low = mid + 1\n",
    "        else:\n",
    "            high = mid - 1\n",
    "    \n",
    "    return low  # The insertion point\n",
    "\n",
    "# Example usage\n",
    "arr = [1, 3, 4, 10, 15]\n",
    "key = 5\n",
    "low = 0\n",
    "high = len(arr)\n",
    "insert_position = binary_search(arr, key, low, high)\n",
    "print(\"Insertion position:\", insert_position)  # Output: Insertion position: 3\n"
   ]
  },
  {
   "cell_type": "code",
   "execution_count": 102,
   "metadata": {},
   "outputs": [
    {
     "name": "stdout",
     "output_type": "stream",
     "text": [
      "element index: -1\n"
     ]
    }
   ],
   "source": [
    "# Python program for searching in unsorted array\n",
    "\n",
    "def search_unsorted(arr, x, n):\n",
    "    index = [i for i in range(n) if arr[i]==x]\n",
    "    return int(index[0]) if index else  -1\n",
    "\n",
    "if __name__=='__main__':\n",
    "    arr = [12, 34, 10, 6, 40]\n",
    "    x = 40\n",
    "    n = len(arr)\n",
    "    output = search_unsorted(arr, x, n)\n",
    "    print('element index:', output)"
   ]
  },
  {
   "cell_type": "code",
   "execution_count": 103,
   "metadata": {},
   "outputs": [
    {
     "name": "stdout",
     "output_type": "stream",
     "text": [
      "Output: 5\n"
     ]
    }
   ],
   "source": [
    "#Searching in a Sorted Array using Linear Search\n",
    "\n",
    "def search_sorted(arr, x, n):\n",
    "    index = [i for i in range(n) if arr[i]==x]\n",
    "    return int(index[0]) if index else -1\n",
    "\n",
    "if __name__ == '__main__':\n",
    "    arr = [5, 6, 7, 8, 9, 10]\n",
    "    x = 10\n",
    "    n = len(arr)\n",
    "    output = search_sorted(arr, x, n)\n",
    "    print('Output:', output)"
   ]
  },
  {
   "cell_type": "code",
   "execution_count": 108,
   "metadata": {},
   "outputs": [
    {
     "name": "stdout",
     "output_type": "stream",
     "text": [
      "output: 6\n"
     ]
    }
   ],
   "source": [
    "#Searching in a Sorted Array using Binary Search\n",
    "\n",
    "def binary_search_arr(arr, key, low, high):\n",
    "    while low<=high:\n",
    "        mid = low + (high-low)//2\n",
    "        \n",
    "        if arr[mid] == key:\n",
    "            return mid\n",
    "        elif arr[mid]>key:\n",
    "            high = mid-1\n",
    "        else:\n",
    "            low = mid+1\n",
    "            \n",
    "    return -1\n",
    "\n",
    "if __name__=='__main__':\n",
    "    arr = [11, 20, 39, 44, 57, 63, 72, 88, 94]\n",
    "    key = 72\n",
    "    low = 0\n",
    "    high = len(arr)\n",
    "    output= binary_search_arr(arr, key, low, high)\n",
    "    print('output:', output)"
   ]
  },
  {
   "cell_type": "code",
   "execution_count": 120,
   "metadata": {},
   "outputs": [
    {
     "name": "stdout",
     "output_type": "stream",
     "text": [
      "output: [10, 50, 40, 20]\n"
     ]
    }
   ],
   "source": [
    "# Python program to delete an element from an unsorted array\n",
    "def del_unsorted(arr, x):\n",
    "    arr.remove(x)\n",
    "    return arr\n",
    "\n",
    "if __name__ == '__main__':\n",
    "    # Declaring array and key to delete\n",
    "    arr = [10, 50, 30, 40, 20]\n",
    "    x = 30\n",
    "    output = del_unsorted(arr, x)\n",
    "    print(\"output:\", output)"
   ]
  },
  {
   "cell_type": "code",
   "execution_count": 122,
   "metadata": {},
   "outputs": [
    {
     "name": "stdout",
     "output_type": "stream",
     "text": [
      "output: [10, 50, 30, 40, 20]\n"
     ]
    }
   ],
   "source": [
    "#Deleting Elements in an Array when it is Sorted\n",
    "\n",
    "def del_unsorted(arr, x):\n",
    "    arr.remove(x)\n",
    "    return arr\n",
    "\n",
    "if __name__ == '__main__':\n",
    "    # Declaring array and key to delete\n",
    "    arr = [10, 50, 30, 30, 40, 20]\n",
    "    x = 30\n",
    "    output = del_unsorted(arr, x)\n",
    "    print(\"output:\", output)"
   ]
  },
  {
   "cell_type": "code",
   "execution_count": 176,
   "metadata": {},
   "outputs": [
    {
     "name": "stdout",
     "output_type": "stream",
     "text": [
      "The list associated with the smallest value (A): [1, 2]\n",
      "No\n",
      "No\n"
     ]
    }
   ],
   "source": [
    "#Given three sorted arrays in assending order, print all common elements in these arrays.\n",
    "\n",
    "#Note: In case of duplicate common elements, print only once.\n",
    "\n",
    "A = [1, 2] \n",
    "B = [14, 15, 16] \n",
    "C = [22, 22, 23] \n",
    "\n",
    "mydict = {'A': len(A), 'B': len(B), 'C': len(C)}\n",
    "\n",
    "# Step 1: Find the smallest value in the dictionary\n",
    "lowest_elements = min(mydict.values())\n",
    "\n",
    "# Step 2: Find the key(s) corresponding to this smallest value\n",
    "keys_with_lowest_value = [key for key, value in mydict.items() if value == lowest_elements]\n",
    "\n",
    "# Assuming we only care about the first key with the smallest value\n",
    "variable = keys_with_lowest_value[0]\n",
    "s"
   ]
  },
  {
   "cell_type": "code",
   "execution_count": 21,
   "metadata": {},
   "outputs": [
    {
     "name": "stdout",
     "output_type": "stream",
     "text": [
      "0 1\n",
      "0 2\n",
      "1 2\n"
     ]
    },
    {
     "data": {
      "text/plain": [
       "'    \\n1 - 1,2,3\\n2 - 1,2,3\\n3 - 1,2,3'"
      ]
     },
     "execution_count": 21,
     "metadata": {},
     "output_type": "execute_result"
    }
   ],
   "source": [
    "'''    \n",
    "Write a program to print all the Leaders in the array. An element is a Leader \n",
    "if it is greater than all the elements to its right side.\n",
    "Note: The rightmost element is always a leader.\n",
    "'''    \n",
    "\n"
   ]
  }
 ],
 "metadata": {
  "kernelspec": {
   "display_name": "Python 3",
   "language": "python",
   "name": "python3"
  },
  "language_info": {
   "codemirror_mode": {
    "name": "ipython",
    "version": 3
   },
   "file_extension": ".py",
   "mimetype": "text/x-python",
   "name": "python",
   "nbconvert_exporter": "python",
   "pygments_lexer": "ipython3",
   "version": "3.9.6"
  }
 },
 "nbformat": 4,
 "nbformat_minor": 2
}
