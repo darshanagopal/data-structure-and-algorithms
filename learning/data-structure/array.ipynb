{
 "cells": [
  {
   "cell_type": "code",
   "execution_count": 88,
   "metadata": {},
   "outputs": [
    {
     "name": "stdout",
     "output_type": "stream",
     "text": [
      "Output: [2, 4, 10, 1, 8, 5, -1, -1, -1, -1, -1, -1, -1, -1, -1, -1, -1]\n"
     ]
    }
   ],
   "source": [
    "# python Program to Insert an element\n",
    "# at a specific position in an Array\n",
    "\n",
    "def insert_inbetween(arr, x, pos):\n",
    "    length = len(arr)\n",
    "    arr.insert(pos, x)\n",
    "    return arr\n",
    "    \n",
    "if __name__=='__main__':\n",
    "    \n",
    "    arr = [2, 4, 1, 8, 5, -1, -1, -1, -1, -1, -1, -1, -1, -1, -1, -1]\n",
    "    x = 10\n",
    "    pos = 2\n",
    "    \n",
    "    output = insert_inbetween(arr, x, pos)\n",
    "    print('Output:', output)"
   ]
  },
  {
   "cell_type": "code",
   "execution_count": 89,
   "metadata": {},
   "outputs": [
    {
     "name": "stdout",
     "output_type": "stream",
     "text": [
      "Insertion position: 3\n"
     ]
    }
   ],
   "source": [
    "# Python3 program to implement insert\n",
    "# operation in an sorted array.\n",
    "\n",
    "# Inserts a key in arr[] of given capacity.\n",
    "# n is current size of arr[]. This function\n",
    "# returns Insertion position\n",
    "\n",
    "def binary_search(arr, key, low, high):\n",
    "    \n",
    "    while low <= high:\n",
    "        mid = low + (high - low) // 2\n",
    "        \n",
    "        if arr[mid] < key:\n",
    "            low = mid + 1\n",
    "        else:\n",
    "            high = mid - 1\n",
    "    \n",
    "    return low  # The insertion point\n",
    "\n",
    "# Example usage\n",
    "arr = [1, 3, 4, 10, 15]\n",
    "key = 5\n",
    "low = 0\n",
    "high = len(arr)\n",
    "insert_position = binary_search(arr, key, low, high)\n",
    "print(\"Insertion position:\", insert_position)  # Output: Insertion position: 3\n"
   ]
  },
  {
   "cell_type": "code",
   "execution_count": 102,
   "metadata": {},
   "outputs": [
    {
     "name": "stdout",
     "output_type": "stream",
     "text": [
      "element index: -1\n"
     ]
    }
   ],
   "source": [
    "# Python program for searching in unsorted array\n",
    "\n",
    "def search_unsorted(arr, x, n):\n",
    "    index = [i for i in range(n) if arr[i]==x]\n",
    "    return int(index[0]) if index else  -1\n",
    "\n",
    "if __name__=='__main__':\n",
    "    arr = [12, 34, 10, 6, 40]\n",
    "    x = 40\n",
    "    n = len(arr)\n",
    "    output = search_unsorted(arr, x, n)\n",
    "    print('element index:', output)"
   ]
  },
  {
   "cell_type": "code",
   "execution_count": 103,
   "metadata": {},
   "outputs": [
    {
     "name": "stdout",
     "output_type": "stream",
     "text": [
      "Output: 5\n"
     ]
    }
   ],
   "source": [
    "#Searching in a Sorted Array using Linear Search\n",
    "\n",
    "def search_sorted(arr, x, n):\n",
    "    index = [i for i in range(n) if arr[i]==x]\n",
    "    return int(index[0]) if index else -1\n",
    "\n",
    "if __name__ == '__main__':\n",
    "    arr = [5, 6, 7, 8, 9, 10]\n",
    "    x = 10\n",
    "    n = len(arr)\n",
    "    output = search_sorted(arr, x, n)\n",
    "    print('Output:', output)"
   ]
  },
  {
   "cell_type": "code",
   "execution_count": 108,
   "metadata": {},
   "outputs": [
    {
     "name": "stdout",
     "output_type": "stream",
     "text": [
      "output: 6\n"
     ]
    }
   ],
   "source": [
    "#Searching in a Sorted Array using Binary Search\n",
    "\n",
    "def binary_search_arr(arr, key, low, high):\n",
    "    while low<=high:\n",
    "        mid = low + (high-low)//2\n",
    "        \n",
    "        if arr[mid] == key:\n",
    "            return mid\n",
    "        elif arr[mid]>key:\n",
    "            high = mid-1\n",
    "        else:\n",
    "            low = mid+1\n",
    "            \n",
    "    return -1\n",
    "\n",
    "if __name__=='__main__':\n",
    "    arr = [11, 20, 39, 44, 57, 63, 72, 88, 94]\n",
    "    key = 72\n",
    "    low = 0\n",
    "    high = len(arr)\n",
    "    output= binary_search_arr(arr, key, low, high)\n",
    "    print('output:', output)"
   ]
  },
  {
   "cell_type": "code",
   "execution_count": 120,
   "metadata": {},
   "outputs": [
    {
     "name": "stdout",
     "output_type": "stream",
     "text": [
      "output: [10, 50, 40, 20]\n"
     ]
    }
   ],
   "source": [
    "# Python program to delete an element from an unsorted array\n",
    "def del_unsorted(arr, x):\n",
    "    arr.remove(x)\n",
    "    return arr\n",
    "\n",
    "if __name__ == '__main__':\n",
    "    # Declaring array and key to delete\n",
    "    arr = [10, 50, 30, 40, 20]\n",
    "    x = 30\n",
    "    output = del_unsorted(arr, x)\n",
    "    print(\"output:\", output)"
   ]
  },
  {
   "cell_type": "code",
   "execution_count": 122,
   "metadata": {},
   "outputs": [
    {
     "name": "stdout",
     "output_type": "stream",
     "text": [
      "output: [10, 50, 30, 40, 20]\n"
     ]
    }
   ],
   "source": [
    "#Deleting Elements in an Array when it is Sorted\n",
    "\n",
    "def del_unsorted(arr, x):\n",
    "    arr.remove(x)\n",
    "    return arr\n",
    "\n",
    "if __name__ == '__main__':\n",
    "    # Declaring array and key to delete\n",
    "    arr = [10, 50, 30, 30, 40, 20]\n",
    "    x = 30\n",
    "    output = del_unsorted(arr, x)\n",
    "    print(\"output:\", output)"
   ]
  },
  {
   "cell_type": "code",
   "execution_count": 176,
   "metadata": {},
   "outputs": [
    {
     "name": "stdout",
     "output_type": "stream",
     "text": [
      "The list associated with the smallest value (A): [1, 2]\n",
      "No\n",
      "No\n"
     ]
    }
   ],
   "source": [
    "#Given three sorted arrays in assending order, print all common elements in these arrays.\n",
    "\n",
    "#Note: In case of duplicate common elements, print only once.\n",
    "\n",
    "A = [1, 2] \n",
    "B = [14, 15, 16] \n",
    "C = [22, 22, 23] \n",
    "\n",
    "mydict = {'A': len(A), 'B': len(B), 'C': len(C)}\n",
    "\n",
    "# Step 1: Find the smallest value in the dictionary\n",
    "lowest_elements = min(mydict.values())\n",
    "\n",
    "# Step 2: Find the key(s) corresponding to this smallest value\n",
    "keys_with_lowest_value = [key for key, value in mydict.items() if value == lowest_elements]\n",
    "\n",
    "# Assuming we only care about the first key with the smallest value\n",
    "variable = keys_with_lowest_value[0]\n",
    "s"
   ]
  },
  {
   "cell_type": "code",
   "execution_count": 32,
   "metadata": {},
   "outputs": [
    {
     "name": "stdout",
     "output_type": "stream",
     "text": [
      "True\n"
     ]
    }
   ],
   "source": [
    "#Check for Majority Element in a sorted array\n",
    "'''\n",
    "Given an array arr of N elements,\n",
    "A majority element in an array arr of size N is an element that appears more than N/2 times in the array.\n",
    "The task is to write a function say isMajority() that takes an array (arr[] ), array’s size (n) and a number \n",
    "to be searched (x) as parameters and returns true if x is a majority element (present more than n/2 times).\n",
    "'''\n",
    "\n",
    "def isMajority(arr, N, x):\n",
    "    count = 0\n",
    "    for i in range(N):\n",
    "        if arr[i]==x:\n",
    "            count += 1 \n",
    "            value = (N//2)\n",
    "            if count > value:\n",
    "                return True\n",
    "    return False\n",
    "        \n",
    "arr = [2,4,56,758,945,6343,2,2,2,2,2,2]\n",
    "N =len(arr)\n",
    "x = 2\n",
    "output = isMajority(arr, N, x)\n",
    "print(output)\n",
    "            "
   ]
  },
  {
   "cell_type": "code",
   "execution_count": 66,
   "metadata": {},
   "outputs": [
    {
     "name": "stdout",
     "output_type": "stream",
     "text": [
      "leader is : 20\n"
     ]
    }
   ],
   "source": [
    "'''    \n",
    "Write a program to print all the Leaders in the array. An element is a Leader \n",
    "if it is greater than all the elements to its right side.\n",
    "Note: The rightmost element is always a leader.\n",
    "'''    \n",
    "\n",
    "def leader(arr,n):\n",
    "    for i in range(n):\n",
    "        for j in range(i+1,n):\n",
    "            if arr[j]>arr[i]:\n",
    "                break\n",
    "        else:\n",
    "            return arr[i]\n",
    "\n",
    "arr = [16, 17, 4, 3, 5, 20]\n",
    "n = len(arr)\n",
    "output = leader(arr,n)\n",
    "print('leader is :', output)\n"
   ]
  },
  {
   "cell_type": "code",
   "execution_count": 71,
   "metadata": {},
   "outputs": [
    {
     "name": "stdout",
     "output_type": "stream",
     "text": [
      "[1, 2, 3, 4, 5, 2, 3, 4, 4, 5, 6, 7]\n"
     ]
    }
   ],
   "source": [
    "#Input: A = [1, 2, 3, 4, 5], B = [2, 3, 4], C = [4, 5, 6, 7]\n",
    "#Output : D = [1, 2, 2, 3, 3, 4, 4, 4, 5, 5, 6, 7]\n",
    "\n",
    "A = [1, 2, 3, 4, 5]\n",
    "B = [2, 3, 4]\n",
    "C = [4, 5, 6, 7]\n",
    "\n",
    "D = []\n",
    "for i in A:\n",
    "    D.append(i)\n",
    "for i in B:\n",
    "    D.append(i)\n",
    "for i in C:\n",
    "    D.append(i)\n",
    "        \n",
    "print(D)"
   ]
  },
  {
   "cell_type": "code",
   "execution_count": 94,
   "metadata": {},
   "outputs": [
    {
     "name": "stdout",
     "output_type": "stream",
     "text": [
      "[[1, 7, 8, 9], [0, 2, 3, 7], [2, 3, 5, 9], [1, 2, 3, 6]]\n"
     ]
    }
   ],
   "source": [
    "def sort_2d(arr_2d):\n",
    "    element_arr = []\n",
    "    for i in arr_2d:\n",
    "        new_arr = sorted(i)\n",
    "        element_arr.append(new_arr)\n",
    "    return element_arr\n",
    "        \n",
    "        \n",
    "        \n",
    "arr_2d  = [[9, 8, 7, 1],\n",
    "            [7, 3, 0, 2],\n",
    "            [9, 5, 3, 2],\n",
    "            [6, 3, 1, 2]]\n",
    "output = sort_2d(arr_2d)\n",
    "print(output)"
   ]
  },
  {
   "cell_type": "code",
   "execution_count": 179,
   "metadata": {},
   "outputs": [
    {
     "name": "stdout",
     "output_type": "stream",
     "text": [
      "prefix sum: [10, 30, 40, 45, 60]\n"
     ]
    }
   ],
   "source": [
    "def prefix_sum(arr):\n",
    "    new_arr = []\n",
    "    for i in range(len(arr)):\n",
    "        current_sum = 0\n",
    "        for j in range(0, i + 1): \n",
    "            current_sum += arr[j]\n",
    "        new_arr.append(current_sum)\n",
    "    return new_arr\n",
    "\n",
    "arr = [10, 20, 10, 5, 15]\n",
    "output = prefix_sum(arr)\n",
    "print('prefix sum:', output)\n"
   ]
  }
 ],
 "metadata": {
  "kernelspec": {
   "display_name": "Python 3",
   "language": "python",
   "name": "python3"
  },
  "language_info": {
   "codemirror_mode": {
    "name": "ipython",
    "version": 3
   },
   "file_extension": ".py",
   "mimetype": "text/x-python",
   "name": "python",
   "nbconvert_exporter": "python",
   "pygments_lexer": "ipython3",
   "version": "3.9.6"
  }
 },
 "nbformat": 4,
 "nbformat_minor": 2
}
